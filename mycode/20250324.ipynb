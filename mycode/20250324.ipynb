{
 "cells": [
  {
   "cell_type": "markdown",
   "id": "903bd06c-0b50-4a35-aa6a-1511a015a092",
   "metadata": {},
   "source": [
    "### import math "
   ]
  },
  {
   "cell_type": "code",
   "execution_count": null,
   "id": "3e56e649-d5cd-402f-a62b-e502c5319ac6",
   "metadata": {},
   "outputs": [],
   "source": []
  },
  {
   "cell_type": "code",
   "execution_count": null,
   "id": "7593d6fb-c04a-45e3-baae-f8ae459a75c0",
   "metadata": {},
   "outputs": [],
   "source": [
    "a = math.fabs(-10)\n",
    "print('-10의 절대값은 ', a)"
   ]
  },
  {
   "cell_type": "code",
   "execution_count": null,
   "id": "5a68cdd9-c654-42ea-b515-9075974e02d5",
   "metadata": {},
   "outputs": [],
   "source": [
    "b = math.sin(math.pi/2.0)\n",
    "print('pi/2의 사인값은 ', b)"
   ]
  },
  {
   "cell_type": "code",
   "execution_count": null,
   "id": "29371835-3229-4130-900b-4289e6c8b65b",
   "metadata": {},
   "outputs": [],
   "source": [
    "from math import sin"
   ]
  },
  {
   "cell_type": "code",
   "execution_count": null,
   "id": "6820b858-e698-4583-b3ce-b3d43c601ac7",
   "metadata": {},
   "outputs": [],
   "source": [
    "b = sin(math.pi/2.0)"
   ]
  },
  {
   "cell_type": "code",
   "execution_count": null,
   "id": "696da487-1445-4944-93fa-03524b698207",
   "metadata": {},
   "outputs": [],
   "source": [
    "print(b)"
   ]
  },
  {
   "cell_type": "code",
   "execution_count": null,
   "id": "4f024b4b-5dca-4602-857c-1a68e42a753b",
   "metadata": {},
   "outputs": [],
   "source": [
    "import pandas as pd \n",
    "import numpy as np"
   ]
  },
  {
   "cell_type": "code",
   "execution_count": null,
   "id": "f85e1243-04fc-4402-a2ce-9a56d2ace710",
   "metadata": {},
   "outputs": [],
   "source": []
  },
  {
   "cell_type": "code",
   "execution_count": null,
   "id": "927d095d-e8d9-4de8-98cb-52e1f1bf2712",
   "metadata": {},
   "outputs": [],
   "source": []
  },
  {
   "cell_type": "code",
   "execution_count": null,
   "id": "924b49d0-7cf3-44ad-aec4-b7e307cff8d9",
   "metadata": {},
   "outputs": [],
   "source": []
  }
 ],
 "metadata": {
  "kernelspec": {
   "display_name": "Python 3 (ipykernel)",
   "language": "python",
   "name": "python3"
  },
  "language_info": {
   "codemirror_mode": {
    "name": "ipython",
    "version": 3
   },
   "file_extension": ".py",
   "mimetype": "text/x-python",
   "name": "python",
   "nbconvert_exporter": "python",
   "pygments_lexer": "ipython3",
   "version": "3.13.2"
  }
 },
 "nbformat": 4,
 "nbformat_minor": 5
}
